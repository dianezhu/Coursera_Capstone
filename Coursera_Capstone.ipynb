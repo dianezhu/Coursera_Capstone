{
 "cells": [
  {
   "cell_type": "markdown",
   "id": "experienced-stream",
   "metadata": {},
   "source": [
    "<h1 align=left><font size = 5> Coursera Capstone Project</font></h1>"
   ]
  },
  {
   "cell_type": "markdown",
   "id": "hidden-harassment",
   "metadata": {},
   "source": [
    "Name: Diane Zhu \\\n",
    "Description: This Notebook will be presenting the final capstone project of Coursera Data Science program"
   ]
  },
  {
   "cell_type": "code",
   "execution_count": 1,
   "id": "raised-investing",
   "metadata": {},
   "outputs": [],
   "source": [
    "import pandas as pd\n",
    "import numpy as np"
   ]
  },
  {
   "cell_type": "code",
   "execution_count": 2,
   "id": "intermediate-processing",
   "metadata": {},
   "outputs": [
    {
     "name": "stdout",
     "output_type": "stream",
     "text": [
      "Hello Capstone Project Course!\n"
     ]
    }
   ],
   "source": [
    "print('Hello Capstone Project Course!')"
   ]
  },
  {
   "cell_type": "code",
   "execution_count": null,
   "id": "brutal-roads",
   "metadata": {},
   "outputs": [],
   "source": []
  }
 ],
 "metadata": {
  "kernelspec": {
   "display_name": "Python 3",
   "language": "python",
   "name": "python3"
  },
  "language_info": {
   "codemirror_mode": {
    "name": "ipython",
    "version": 3
   },
   "file_extension": ".py",
   "mimetype": "text/x-python",
   "name": "python",
   "nbconvert_exporter": "python",
   "pygments_lexer": "ipython3",
   "version": "3.7.4"
  }
 },
 "nbformat": 4,
 "nbformat_minor": 5
}
